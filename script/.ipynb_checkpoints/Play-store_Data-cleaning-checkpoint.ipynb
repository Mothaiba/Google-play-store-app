{
 "cells": [
  {
   "cell_type": "markdown",
   "metadata": {},
   "source": [
    "## Import libraries"
   ]
  },
  {
   "cell_type": "code",
   "execution_count": 1,
   "metadata": {},
   "outputs": [],
   "source": [
    "from copy import deepcopy\n",
    "import re\n",
    "import numpy as np\n",
    "import pandas as pd"
   ]
  },
  {
   "cell_type": "markdown",
   "metadata": {},
   "source": [
    "## Configurations"
   ]
  },
  {
   "cell_type": "code",
   "execution_count": 2,
   "metadata": {},
   "outputs": [],
   "source": [
    "#pd.set_option('max_colwidth', 100)"
   ]
  },
  {
   "cell_type": "markdown",
   "metadata": {},
   "source": [
    "## Load data"
   ]
  },
  {
   "cell_type": "code",
   "execution_count": 3,
   "metadata": {},
   "outputs": [],
   "source": [
    "df_playstore = pd.read_csv('../data/googleplaystore.csv')"
   ]
  },
  {
   "cell_type": "markdown",
   "metadata": {},
   "source": [
    "In general, to have an overview of the dataframe, I would print out the following information:\n",
    "- data shape: the number of instances and features.\n",
    "- several data rows: to have a sense of the values each data point may contain.\n",
    "- data types of the columns.\n",
    "- common statistics of the dataframe (using .describe() method).\n",
    "- Missing-value status (using .isna() method).\n",
    "- The number of unique values for each column."
   ]
  },
  {
   "cell_type": "code",
   "execution_count": 4,
   "metadata": {},
   "outputs": [
    {
     "name": "stdout",
     "output_type": "stream",
     "text": [
      "df_playstore.shape: (10841, 13)\n"
     ]
    }
   ],
   "source": [
    "print('df_playstore.shape:', df_playstore.shape)"
   ]
  },
  {
   "cell_type": "code",
   "execution_count": 5,
   "metadata": {},
   "outputs": [
    {
     "name": "stdout",
     "output_type": "stream",
     "text": [
      "Some first rows of the data:\n"
     ]
    },
    {
     "data": {
      "text/html": [
       "<div>\n",
       "<style scoped>\n",
       "    .dataframe tbody tr th:only-of-type {\n",
       "        vertical-align: middle;\n",
       "    }\n",
       "\n",
       "    .dataframe tbody tr th {\n",
       "        vertical-align: top;\n",
       "    }\n",
       "\n",
       "    .dataframe thead th {\n",
       "        text-align: right;\n",
       "    }\n",
       "</style>\n",
       "<table border=\"1\" class=\"dataframe\">\n",
       "  <thead>\n",
       "    <tr style=\"text-align: right;\">\n",
       "      <th></th>\n",
       "      <th>App</th>\n",
       "      <th>Category</th>\n",
       "      <th>Rating</th>\n",
       "      <th>Reviews</th>\n",
       "      <th>Size</th>\n",
       "      <th>Installs</th>\n",
       "      <th>Type</th>\n",
       "      <th>Price</th>\n",
       "      <th>Content Rating</th>\n",
       "      <th>Genres</th>\n",
       "      <th>Last Updated</th>\n",
       "      <th>Current Ver</th>\n",
       "      <th>Android Ver</th>\n",
       "    </tr>\n",
       "  </thead>\n",
       "  <tbody>\n",
       "    <tr>\n",
       "      <th>0</th>\n",
       "      <td>Photo Editor &amp; Candy Camera &amp; Grid &amp; ScrapBook</td>\n",
       "      <td>ART_AND_DESIGN</td>\n",
       "      <td>4.1</td>\n",
       "      <td>159</td>\n",
       "      <td>19M</td>\n",
       "      <td>10,000+</td>\n",
       "      <td>Free</td>\n",
       "      <td>0</td>\n",
       "      <td>Everyone</td>\n",
       "      <td>Art &amp; Design</td>\n",
       "      <td>January 7, 2018</td>\n",
       "      <td>1.0.0</td>\n",
       "      <td>4.0.3 and up</td>\n",
       "    </tr>\n",
       "    <tr>\n",
       "      <th>1</th>\n",
       "      <td>Coloring book moana</td>\n",
       "      <td>ART_AND_DESIGN</td>\n",
       "      <td>3.9</td>\n",
       "      <td>967</td>\n",
       "      <td>14M</td>\n",
       "      <td>500,000+</td>\n",
       "      <td>Free</td>\n",
       "      <td>0</td>\n",
       "      <td>Everyone</td>\n",
       "      <td>Art &amp; Design;Pretend Play</td>\n",
       "      <td>January 15, 2018</td>\n",
       "      <td>2.0.0</td>\n",
       "      <td>4.0.3 and up</td>\n",
       "    </tr>\n",
       "    <tr>\n",
       "      <th>2</th>\n",
       "      <td>U Launcher Lite – FREE Live Cool Themes, Hide ...</td>\n",
       "      <td>ART_AND_DESIGN</td>\n",
       "      <td>4.7</td>\n",
       "      <td>87510</td>\n",
       "      <td>8.7M</td>\n",
       "      <td>5,000,000+</td>\n",
       "      <td>Free</td>\n",
       "      <td>0</td>\n",
       "      <td>Everyone</td>\n",
       "      <td>Art &amp; Design</td>\n",
       "      <td>August 1, 2018</td>\n",
       "      <td>1.2.4</td>\n",
       "      <td>4.0.3 and up</td>\n",
       "    </tr>\n",
       "    <tr>\n",
       "      <th>3</th>\n",
       "      <td>Sketch - Draw &amp; Paint</td>\n",
       "      <td>ART_AND_DESIGN</td>\n",
       "      <td>4.5</td>\n",
       "      <td>215644</td>\n",
       "      <td>25M</td>\n",
       "      <td>50,000,000+</td>\n",
       "      <td>Free</td>\n",
       "      <td>0</td>\n",
       "      <td>Teen</td>\n",
       "      <td>Art &amp; Design</td>\n",
       "      <td>June 8, 2018</td>\n",
       "      <td>Varies with device</td>\n",
       "      <td>4.2 and up</td>\n",
       "    </tr>\n",
       "    <tr>\n",
       "      <th>4</th>\n",
       "      <td>Pixel Draw - Number Art Coloring Book</td>\n",
       "      <td>ART_AND_DESIGN</td>\n",
       "      <td>4.3</td>\n",
       "      <td>967</td>\n",
       "      <td>2.8M</td>\n",
       "      <td>100,000+</td>\n",
       "      <td>Free</td>\n",
       "      <td>0</td>\n",
       "      <td>Everyone</td>\n",
       "      <td>Art &amp; Design;Creativity</td>\n",
       "      <td>June 20, 2018</td>\n",
       "      <td>1.1</td>\n",
       "      <td>4.4 and up</td>\n",
       "    </tr>\n",
       "  </tbody>\n",
       "</table>\n",
       "</div>"
      ],
      "text/plain": [
       "                                                 App        Category  Rating  \\\n",
       "0     Photo Editor & Candy Camera & Grid & ScrapBook  ART_AND_DESIGN     4.1   \n",
       "1                                Coloring book moana  ART_AND_DESIGN     3.9   \n",
       "2  U Launcher Lite – FREE Live Cool Themes, Hide ...  ART_AND_DESIGN     4.7   \n",
       "3                              Sketch - Draw & Paint  ART_AND_DESIGN     4.5   \n",
       "4              Pixel Draw - Number Art Coloring Book  ART_AND_DESIGN     4.3   \n",
       "\n",
       "  Reviews  Size     Installs  Type Price Content Rating  \\\n",
       "0     159   19M      10,000+  Free     0       Everyone   \n",
       "1     967   14M     500,000+  Free     0       Everyone   \n",
       "2   87510  8.7M   5,000,000+  Free     0       Everyone   \n",
       "3  215644   25M  50,000,000+  Free     0           Teen   \n",
       "4     967  2.8M     100,000+  Free     0       Everyone   \n",
       "\n",
       "                      Genres      Last Updated         Current Ver  \\\n",
       "0               Art & Design   January 7, 2018               1.0.0   \n",
       "1  Art & Design;Pretend Play  January 15, 2018               2.0.0   \n",
       "2               Art & Design    August 1, 2018               1.2.4   \n",
       "3               Art & Design      June 8, 2018  Varies with device   \n",
       "4    Art & Design;Creativity     June 20, 2018                 1.1   \n",
       "\n",
       "    Android Ver  \n",
       "0  4.0.3 and up  \n",
       "1  4.0.3 and up  \n",
       "2  4.0.3 and up  \n",
       "3    4.2 and up  \n",
       "4    4.4 and up  "
      ]
     },
     "metadata": {},
     "output_type": "display_data"
    }
   ],
   "source": [
    "print('Some first rows of the data:')\n",
    "display(df_playstore.head())"
   ]
  },
  {
   "cell_type": "code",
   "execution_count": 6,
   "metadata": {},
   "outputs": [
    {
     "name": "stdout",
     "output_type": "stream",
     "text": [
      "Column data-types:\n"
     ]
    },
    {
     "data": {
      "text/plain": [
       "App                object\n",
       "Category           object\n",
       "Rating            float64\n",
       "Reviews            object\n",
       "Size               object\n",
       "Installs           object\n",
       "Type               object\n",
       "Price              object\n",
       "Content Rating     object\n",
       "Genres             object\n",
       "Last Updated       object\n",
       "Current Ver        object\n",
       "Android Ver        object\n",
       "dtype: object"
      ]
     },
     "metadata": {},
     "output_type": "display_data"
    }
   ],
   "source": [
    "print('Column data-types:')\n",
    "display(df_playstore.dtypes)"
   ]
  },
  {
   "cell_type": "code",
   "execution_count": 7,
   "metadata": {},
   "outputs": [
    {
     "name": "stdout",
     "output_type": "stream",
     "text": [
      "General statistics of the dataframe:\n"
     ]
    },
    {
     "data": {
      "text/html": [
       "<div>\n",
       "<style scoped>\n",
       "    .dataframe tbody tr th:only-of-type {\n",
       "        vertical-align: middle;\n",
       "    }\n",
       "\n",
       "    .dataframe tbody tr th {\n",
       "        vertical-align: top;\n",
       "    }\n",
       "\n",
       "    .dataframe thead th {\n",
       "        text-align: right;\n",
       "    }\n",
       "</style>\n",
       "<table border=\"1\" class=\"dataframe\">\n",
       "  <thead>\n",
       "    <tr style=\"text-align: right;\">\n",
       "      <th></th>\n",
       "      <th>App</th>\n",
       "      <th>Category</th>\n",
       "      <th>Rating</th>\n",
       "      <th>Reviews</th>\n",
       "      <th>Size</th>\n",
       "      <th>Installs</th>\n",
       "      <th>Type</th>\n",
       "      <th>Price</th>\n",
       "      <th>Content Rating</th>\n",
       "      <th>Genres</th>\n",
       "      <th>Last Updated</th>\n",
       "      <th>Current Ver</th>\n",
       "      <th>Android Ver</th>\n",
       "    </tr>\n",
       "  </thead>\n",
       "  <tbody>\n",
       "    <tr>\n",
       "      <th>count</th>\n",
       "      <td>10841</td>\n",
       "      <td>10841</td>\n",
       "      <td>9367.000000</td>\n",
       "      <td>10841</td>\n",
       "      <td>10841</td>\n",
       "      <td>10841</td>\n",
       "      <td>10840</td>\n",
       "      <td>10841</td>\n",
       "      <td>10840</td>\n",
       "      <td>10841</td>\n",
       "      <td>10841</td>\n",
       "      <td>10833</td>\n",
       "      <td>10838</td>\n",
       "    </tr>\n",
       "    <tr>\n",
       "      <th>unique</th>\n",
       "      <td>9660</td>\n",
       "      <td>34</td>\n",
       "      <td>NaN</td>\n",
       "      <td>6002</td>\n",
       "      <td>462</td>\n",
       "      <td>22</td>\n",
       "      <td>3</td>\n",
       "      <td>93</td>\n",
       "      <td>6</td>\n",
       "      <td>120</td>\n",
       "      <td>1378</td>\n",
       "      <td>2832</td>\n",
       "      <td>33</td>\n",
       "    </tr>\n",
       "    <tr>\n",
       "      <th>top</th>\n",
       "      <td>ROBLOX</td>\n",
       "      <td>FAMILY</td>\n",
       "      <td>NaN</td>\n",
       "      <td>0</td>\n",
       "      <td>Varies with device</td>\n",
       "      <td>1,000,000+</td>\n",
       "      <td>Free</td>\n",
       "      <td>0</td>\n",
       "      <td>Everyone</td>\n",
       "      <td>Tools</td>\n",
       "      <td>August 3, 2018</td>\n",
       "      <td>Varies with device</td>\n",
       "      <td>4.1 and up</td>\n",
       "    </tr>\n",
       "    <tr>\n",
       "      <th>freq</th>\n",
       "      <td>9</td>\n",
       "      <td>1972</td>\n",
       "      <td>NaN</td>\n",
       "      <td>596</td>\n",
       "      <td>1695</td>\n",
       "      <td>1579</td>\n",
       "      <td>10039</td>\n",
       "      <td>10040</td>\n",
       "      <td>8714</td>\n",
       "      <td>842</td>\n",
       "      <td>326</td>\n",
       "      <td>1459</td>\n",
       "      <td>2451</td>\n",
       "    </tr>\n",
       "    <tr>\n",
       "      <th>mean</th>\n",
       "      <td>NaN</td>\n",
       "      <td>NaN</td>\n",
       "      <td>4.193338</td>\n",
       "      <td>NaN</td>\n",
       "      <td>NaN</td>\n",
       "      <td>NaN</td>\n",
       "      <td>NaN</td>\n",
       "      <td>NaN</td>\n",
       "      <td>NaN</td>\n",
       "      <td>NaN</td>\n",
       "      <td>NaN</td>\n",
       "      <td>NaN</td>\n",
       "      <td>NaN</td>\n",
       "    </tr>\n",
       "    <tr>\n",
       "      <th>std</th>\n",
       "      <td>NaN</td>\n",
       "      <td>NaN</td>\n",
       "      <td>0.537431</td>\n",
       "      <td>NaN</td>\n",
       "      <td>NaN</td>\n",
       "      <td>NaN</td>\n",
       "      <td>NaN</td>\n",
       "      <td>NaN</td>\n",
       "      <td>NaN</td>\n",
       "      <td>NaN</td>\n",
       "      <td>NaN</td>\n",
       "      <td>NaN</td>\n",
       "      <td>NaN</td>\n",
       "    </tr>\n",
       "    <tr>\n",
       "      <th>min</th>\n",
       "      <td>NaN</td>\n",
       "      <td>NaN</td>\n",
       "      <td>1.000000</td>\n",
       "      <td>NaN</td>\n",
       "      <td>NaN</td>\n",
       "      <td>NaN</td>\n",
       "      <td>NaN</td>\n",
       "      <td>NaN</td>\n",
       "      <td>NaN</td>\n",
       "      <td>NaN</td>\n",
       "      <td>NaN</td>\n",
       "      <td>NaN</td>\n",
       "      <td>NaN</td>\n",
       "    </tr>\n",
       "    <tr>\n",
       "      <th>25%</th>\n",
       "      <td>NaN</td>\n",
       "      <td>NaN</td>\n",
       "      <td>4.000000</td>\n",
       "      <td>NaN</td>\n",
       "      <td>NaN</td>\n",
       "      <td>NaN</td>\n",
       "      <td>NaN</td>\n",
       "      <td>NaN</td>\n",
       "      <td>NaN</td>\n",
       "      <td>NaN</td>\n",
       "      <td>NaN</td>\n",
       "      <td>NaN</td>\n",
       "      <td>NaN</td>\n",
       "    </tr>\n",
       "    <tr>\n",
       "      <th>50%</th>\n",
       "      <td>NaN</td>\n",
       "      <td>NaN</td>\n",
       "      <td>4.300000</td>\n",
       "      <td>NaN</td>\n",
       "      <td>NaN</td>\n",
       "      <td>NaN</td>\n",
       "      <td>NaN</td>\n",
       "      <td>NaN</td>\n",
       "      <td>NaN</td>\n",
       "      <td>NaN</td>\n",
       "      <td>NaN</td>\n",
       "      <td>NaN</td>\n",
       "      <td>NaN</td>\n",
       "    </tr>\n",
       "    <tr>\n",
       "      <th>75%</th>\n",
       "      <td>NaN</td>\n",
       "      <td>NaN</td>\n",
       "      <td>4.500000</td>\n",
       "      <td>NaN</td>\n",
       "      <td>NaN</td>\n",
       "      <td>NaN</td>\n",
       "      <td>NaN</td>\n",
       "      <td>NaN</td>\n",
       "      <td>NaN</td>\n",
       "      <td>NaN</td>\n",
       "      <td>NaN</td>\n",
       "      <td>NaN</td>\n",
       "      <td>NaN</td>\n",
       "    </tr>\n",
       "    <tr>\n",
       "      <th>max</th>\n",
       "      <td>NaN</td>\n",
       "      <td>NaN</td>\n",
       "      <td>19.000000</td>\n",
       "      <td>NaN</td>\n",
       "      <td>NaN</td>\n",
       "      <td>NaN</td>\n",
       "      <td>NaN</td>\n",
       "      <td>NaN</td>\n",
       "      <td>NaN</td>\n",
       "      <td>NaN</td>\n",
       "      <td>NaN</td>\n",
       "      <td>NaN</td>\n",
       "      <td>NaN</td>\n",
       "    </tr>\n",
       "  </tbody>\n",
       "</table>\n",
       "</div>"
      ],
      "text/plain": [
       "           App Category       Rating Reviews                Size    Installs  \\\n",
       "count    10841    10841  9367.000000   10841               10841       10841   \n",
       "unique    9660       34          NaN    6002                 462          22   \n",
       "top     ROBLOX   FAMILY          NaN       0  Varies with device  1,000,000+   \n",
       "freq         9     1972          NaN     596                1695        1579   \n",
       "mean       NaN      NaN     4.193338     NaN                 NaN         NaN   \n",
       "std        NaN      NaN     0.537431     NaN                 NaN         NaN   \n",
       "min        NaN      NaN     1.000000     NaN                 NaN         NaN   \n",
       "25%        NaN      NaN     4.000000     NaN                 NaN         NaN   \n",
       "50%        NaN      NaN     4.300000     NaN                 NaN         NaN   \n",
       "75%        NaN      NaN     4.500000     NaN                 NaN         NaN   \n",
       "max        NaN      NaN    19.000000     NaN                 NaN         NaN   \n",
       "\n",
       "         Type  Price Content Rating Genres    Last Updated  \\\n",
       "count   10840  10841          10840  10841           10841   \n",
       "unique      3     93              6    120            1378   \n",
       "top      Free      0       Everyone  Tools  August 3, 2018   \n",
       "freq    10039  10040           8714    842             326   \n",
       "mean      NaN    NaN            NaN    NaN             NaN   \n",
       "std       NaN    NaN            NaN    NaN             NaN   \n",
       "min       NaN    NaN            NaN    NaN             NaN   \n",
       "25%       NaN    NaN            NaN    NaN             NaN   \n",
       "50%       NaN    NaN            NaN    NaN             NaN   \n",
       "75%       NaN    NaN            NaN    NaN             NaN   \n",
       "max       NaN    NaN            NaN    NaN             NaN   \n",
       "\n",
       "               Current Ver Android Ver  \n",
       "count                10833       10838  \n",
       "unique                2832          33  \n",
       "top     Varies with device  4.1 and up  \n",
       "freq                  1459        2451  \n",
       "mean                   NaN         NaN  \n",
       "std                    NaN         NaN  \n",
       "min                    NaN         NaN  \n",
       "25%                    NaN         NaN  \n",
       "50%                    NaN         NaN  \n",
       "75%                    NaN         NaN  \n",
       "max                    NaN         NaN  "
      ]
     },
     "metadata": {},
     "output_type": "display_data"
    }
   ],
   "source": [
    "print('General statistics of the dataframe:')\n",
    "display(df_playstore.describe(include='all'))"
   ]
  },
  {
   "cell_type": "code",
   "execution_count": 8,
   "metadata": {
    "scrolled": true
   },
   "outputs": [
    {
     "name": "stdout",
     "output_type": "stream",
     "text": [
      "Missing-value status:\n"
     ]
    },
    {
     "data": {
      "text/plain": [
       "App                  0\n",
       "Category             0\n",
       "Rating            1474\n",
       "Reviews              0\n",
       "Size                 0\n",
       "Installs             0\n",
       "Type                 1\n",
       "Price                0\n",
       "Content Rating       1\n",
       "Genres               0\n",
       "Last Updated         0\n",
       "Current Ver          8\n",
       "Android Ver          3\n",
       "dtype: int64"
      ]
     },
     "metadata": {},
     "output_type": "display_data"
    }
   ],
   "source": [
    "print('Missing-value status:')\n",
    "display(df_playstore.isna().sum())"
   ]
  },
  {
   "cell_type": "code",
   "execution_count": 9,
   "metadata": {},
   "outputs": [
    {
     "name": "stdout",
     "output_type": "stream",
     "text": [
      "Number of unique values for each column:\n"
     ]
    },
    {
     "data": {
      "text/plain": [
       "App               9660\n",
       "Category            34\n",
       "Rating              40\n",
       "Reviews           6002\n",
       "Size               462\n",
       "Installs            22\n",
       "Type                 3\n",
       "Price               93\n",
       "Content Rating       6\n",
       "Genres             120\n",
       "Last Updated      1378\n",
       "Current Ver       2832\n",
       "Android Ver         33\n",
       "dtype: int64"
      ]
     },
     "execution_count": 9,
     "metadata": {},
     "output_type": "execute_result"
    }
   ],
   "source": [
    "print('Number of unique values for each column:')\n",
    "df_playstore.nunique()"
   ]
  },
  {
   "cell_type": "markdown",
   "metadata": {},
   "source": [
    "#### Remove duplicates"
   ]
  },
  {
   "cell_type": "code",
   "execution_count": 10,
   "metadata": {
    "scrolled": true
   },
   "outputs": [
    {
     "name": "stdout",
     "output_type": "stream",
     "text": [
      "df_playstore.shape: (10358, 13)\n"
     ]
    }
   ],
   "source": [
    "# We don't need duplicated data points.\n",
    "df_playstore = df_playstore.drop_duplicates(keep='first')\n",
    "print('df_playstore.shape:', df_playstore.shape)"
   ]
  },
  {
   "cell_type": "markdown",
   "metadata": {},
   "source": [
    "#### Format the Last Updated column"
   ]
  },
  {
   "cell_type": "code",
   "execution_count": 11,
   "metadata": {
    "scrolled": true
   },
   "outputs": [
    {
     "data": {
      "text/html": [
       "<div>\n",
       "<style scoped>\n",
       "    .dataframe tbody tr th:only-of-type {\n",
       "        vertical-align: middle;\n",
       "    }\n",
       "\n",
       "    .dataframe tbody tr th {\n",
       "        vertical-align: top;\n",
       "    }\n",
       "\n",
       "    .dataframe thead th {\n",
       "        text-align: right;\n",
       "    }\n",
       "</style>\n",
       "<table border=\"1\" class=\"dataframe\">\n",
       "  <thead>\n",
       "    <tr style=\"text-align: right;\">\n",
       "      <th></th>\n",
       "      <th>App</th>\n",
       "      <th>Category</th>\n",
       "      <th>Rating</th>\n",
       "      <th>Reviews</th>\n",
       "      <th>Size</th>\n",
       "      <th>Installs</th>\n",
       "      <th>Type</th>\n",
       "      <th>Price</th>\n",
       "      <th>Content Rating</th>\n",
       "      <th>Genres</th>\n",
       "      <th>Last Updated</th>\n",
       "      <th>Current Ver</th>\n",
       "      <th>Android Ver</th>\n",
       "    </tr>\n",
       "  </thead>\n",
       "  <tbody>\n",
       "    <tr>\n",
       "      <th>10472</th>\n",
       "      <td>Life Made WI-Fi Touchscreen Photo Frame</td>\n",
       "      <td>1.9</td>\n",
       "      <td>19.0</td>\n",
       "      <td>3.0M</td>\n",
       "      <td>1,000+</td>\n",
       "      <td>Free</td>\n",
       "      <td>0</td>\n",
       "      <td>Everyone</td>\n",
       "      <td>NaN</td>\n",
       "      <td>February 11, 2018</td>\n",
       "      <td>1.0.19</td>\n",
       "      <td>4.0 and up</td>\n",
       "      <td>NaN</td>\n",
       "    </tr>\n",
       "  </tbody>\n",
       "</table>\n",
       "</div>"
      ],
      "text/plain": [
       "                                           App Category  Rating Reviews  \\\n",
       "10472  Life Made WI-Fi Touchscreen Photo Frame      1.9    19.0    3.0M   \n",
       "\n",
       "         Size Installs Type     Price Content Rating             Genres  \\\n",
       "10472  1,000+     Free    0  Everyone            NaN  February 11, 2018   \n",
       "\n",
       "      Last Updated Current Ver Android Ver  \n",
       "10472       1.0.19  4.0 and up         NaN  "
      ]
     },
     "execution_count": 11,
     "metadata": {},
     "output_type": "execute_result"
    }
   ],
   "source": [
    "# Show the rows that cannot be converted to datetime.\n",
    "tmp_cast = pd.to_datetime(df_playstore['Last Updated']\n",
    "                          , errors='coerce')\n",
    "df_playstore[tmp_cast.isna()]"
   ]
  },
  {
   "cell_type": "code",
   "execution_count": 12,
   "metadata": {},
   "outputs": [],
   "source": [
    "# shift the values to the right to correct this row.\n",
    "row_missing_value = deepcopy(df_playstore.loc[10472])\n",
    "row_missing_value[1:] = row_missing_value[1:].shift(periods=1)\n",
    "df_playstore.loc[10472] = row_missing_value\n",
    "\n",
    "# remove the temporary variable.\n",
    "del row_missing_value"
   ]
  },
  {
   "cell_type": "code",
   "execution_count": 13,
   "metadata": {},
   "outputs": [],
   "source": [
    "# this app belongs to the Lifestyle category\n",
    "#   as manually checked on Google Store.\n",
    "df_playstore.loc[10472, 'Category'] = 'LIFESTYLE'"
   ]
  },
  {
   "cell_type": "code",
   "execution_count": 14,
   "metadata": {},
   "outputs": [],
   "source": [
    "# convert the column to datatime.\n",
    "df_playstore['Last Updated'] = (\n",
    "    pd.to_datetime(df_playstore['Last Updated'])\n",
    ")"
   ]
  },
  {
   "cell_type": "markdown",
   "metadata": {},
   "source": [
    "#### Rating"
   ]
  },
  {
   "cell_type": "code",
   "execution_count": 15,
   "metadata": {},
   "outputs": [],
   "source": [
    "# convert to float.\n",
    "df_playstore.Rating = df_playstore.Rating.astype(float)"
   ]
  },
  {
   "cell_type": "markdown",
   "metadata": {},
   "source": [
    "#### Reviews column"
   ]
  },
  {
   "cell_type": "code",
   "execution_count": 16,
   "metadata": {
    "scrolled": true
   },
   "outputs": [],
   "source": [
    "# convert to int.\n",
    "df_playstore['Reviews'] = df_playstore['Reviews'].astype(int)"
   ]
  },
  {
   "cell_type": "markdown",
   "metadata": {},
   "source": [
    "#### Size column"
   ]
  },
  {
   "cell_type": "code",
   "execution_count": 17,
   "metadata": {
    "scrolled": true
   },
   "outputs": [
    {
     "data": {
      "text/plain": [
       "10358"
      ]
     },
     "execution_count": 17,
     "metadata": {},
     "output_type": "execute_result"
    }
   ],
   "source": [
    "# verify if all rows follow one of these 3 formats.\n",
    "sum((df_playstore['Size'].str.match('\\d+\\.?\\d*M').sum(),\n",
    "     df_playstore['Size'].str.match('\\d+\\.?\\d*k').sum(),\n",
    "     df_playstore['Size'].str.match('Varies with device').sum()\n",
    "    ))"
   ]
  },
  {
   "cell_type": "code",
   "execution_count": 18,
   "metadata": {},
   "outputs": [],
   "source": [
    "# copy the desired column to a new variable\n",
    "#   and work on this new variable\n",
    "#   to avoid unnecessary errors for the main data frame.\n",
    "df_playstore_size = deepcopy(df_playstore['Size'])\n",
    "\n",
    "# get the indexes of rows for each type of size.\n",
    "index_size_M = df_playstore_size.str.endswith('M')\n",
    "index_size_k = df_playstore_size.str.endswith('k')\n",
    "index_size_unknown = df_playstore_size.str.match('Varies with device')\n",
    "\n",
    "# replace the values of the copy.\n",
    "df_playstore_size[index_size_M] = (\n",
    "    df_playstore_size[index_size_M].apply(\n",
    "        lambda x: float(x[:-1])\n",
    "    )\n",
    ")\n",
    "df_playstore_size[index_size_k] = (\n",
    "    df_playstore_size[index_size_k].apply(\n",
    "        lambda x : float(x[:-1]) / 1024\n",
    "    )\n",
    ")\n",
    "df_playstore_size[index_size_unknown] = np.nan\n",
    "\n",
    "# apply the replaced value to the main data frame.\n",
    "df_playstore['Size'] = df_playstore_size.astype(float)\n",
    "\n",
    "# make a new column to emphasize the apps with\n",
    "#   variable size.\n",
    "df_playstore['Variable Size'] = (\n",
    "    df_playstore['Size'].isna().astype(int)\n",
    ")\n",
    "\n",
    "# delete temporary variables.\n",
    "del df_playstore_size\n",
    "del index_size_M, index_size_k, index_size_unknown"
   ]
  },
  {
   "cell_type": "markdown",
   "metadata": {},
   "source": [
    "#### Installs column"
   ]
  },
  {
   "cell_type": "code",
   "execution_count": 19,
   "metadata": {
    "scrolled": false
   },
   "outputs": [
    {
     "data": {
      "text/plain": [
       "1,000,000+        1488\n",
       "10,000,000+       1132\n",
       "100,000+          1129\n",
       "10,000+           1033\n",
       "1,000+             891\n",
       "100+               710\n",
       "5,000,000+         683\n",
       "500,000+           517\n",
       "50,000+            474\n",
       "5,000+             469\n",
       "10+                385\n",
       "100,000,000+       369\n",
       "500+               328\n",
       "50,000,000+        272\n",
       "50+                204\n",
       "5+                  82\n",
       "1+                  67\n",
       "500,000,000+        61\n",
       "1,000,000,000+      49\n",
       "0+                  14\n",
       "0                    1\n",
       "Name: Installs, dtype: int64"
      ]
     },
     "execution_count": 19,
     "metadata": {},
     "output_type": "execute_result"
    }
   ],
   "source": [
    "# see the buckets.\n",
    "df_playstore['Installs'].value_counts()"
   ]
  },
  {
   "cell_type": "code",
   "execution_count": 20,
   "metadata": {},
   "outputs": [],
   "source": [
    "# copy the desired column to a new variable\n",
    "#   and work on this new variable\n",
    "#   to avoid unnecessary errors for the main data frame.\n",
    "df_playstore_installs = deepcopy(df_playstore.Installs)\n",
    "\n",
    "# get the indexes of the rows that are \n",
    "#   not ready to be converted to int.\n",
    "index_install_plus = df_playstore_installs.str.endswith('+')\n",
    "\n",
    "# convert to int\n",
    "df_playstore_installs[index_install_plus] = (\n",
    "    df_playstore_installs[index_install_plus].apply(\n",
    "        lambda x : int(x[:-1].replace(',', '')) + 1\n",
    "    )\n",
    ")\n",
    "\n",
    "# apply the change to the main data frame\n",
    "#   and rename the column to make it more clear.\n",
    "df_playstore['Installs'] = df_playstore_installs.astype(int)\n",
    "df_playstore = df_playstore.rename(\n",
    "    columns={'Installs' : 'Installs at least'}\n",
    ")\n",
    "\n",
    "# delete the temporary variables.\n",
    "del df_playstore_installs, index_install_plus"
   ]
  },
  {
   "cell_type": "markdown",
   "metadata": {},
   "source": [
    "#### Type"
   ]
  },
  {
   "cell_type": "code",
   "execution_count": 21,
   "metadata": {},
   "outputs": [
    {
     "data": {
      "text/html": [
       "<div>\n",
       "<style scoped>\n",
       "    .dataframe tbody tr th:only-of-type {\n",
       "        vertical-align: middle;\n",
       "    }\n",
       "\n",
       "    .dataframe tbody tr th {\n",
       "        vertical-align: top;\n",
       "    }\n",
       "\n",
       "    .dataframe thead th {\n",
       "        text-align: right;\n",
       "    }\n",
       "</style>\n",
       "<table border=\"1\" class=\"dataframe\">\n",
       "  <thead>\n",
       "    <tr style=\"text-align: right;\">\n",
       "      <th></th>\n",
       "      <th>App</th>\n",
       "      <th>Category</th>\n",
       "      <th>Rating</th>\n",
       "      <th>Reviews</th>\n",
       "      <th>Size</th>\n",
       "      <th>Installs at least</th>\n",
       "      <th>Type</th>\n",
       "      <th>Price</th>\n",
       "      <th>Content Rating</th>\n",
       "      <th>Genres</th>\n",
       "      <th>Last Updated</th>\n",
       "      <th>Current Ver</th>\n",
       "      <th>Android Ver</th>\n",
       "      <th>Variable Size</th>\n",
       "    </tr>\n",
       "  </thead>\n",
       "  <tbody>\n",
       "    <tr>\n",
       "      <th>9148</th>\n",
       "      <td>Command &amp; Conquer: Rivals</td>\n",
       "      <td>FAMILY</td>\n",
       "      <td>NaN</td>\n",
       "      <td>0</td>\n",
       "      <td>NaN</td>\n",
       "      <td>0</td>\n",
       "      <td>NaN</td>\n",
       "      <td>0</td>\n",
       "      <td>Everyone 10+</td>\n",
       "      <td>Strategy</td>\n",
       "      <td>2018-06-28</td>\n",
       "      <td>Varies with device</td>\n",
       "      <td>Varies with device</td>\n",
       "      <td>1</td>\n",
       "    </tr>\n",
       "  </tbody>\n",
       "</table>\n",
       "</div>"
      ],
      "text/plain": [
       "                            App Category  Rating  Reviews  Size  \\\n",
       "9148  Command & Conquer: Rivals   FAMILY     NaN        0   NaN   \n",
       "\n",
       "      Installs at least Type Price Content Rating    Genres Last Updated  \\\n",
       "9148                  0  NaN     0   Everyone 10+  Strategy   2018-06-28   \n",
       "\n",
       "             Current Ver         Android Ver  Variable Size  \n",
       "9148  Varies with device  Varies with device              1  "
      ]
     },
     "execution_count": 21,
     "metadata": {},
     "output_type": "execute_result"
    }
   ],
   "source": [
    "# check for the rows with NaN Type.\n",
    "df_playstore[df_playstore['Type'].isna()]"
   ]
  },
  {
   "cell_type": "code",
   "execution_count": 22,
   "metadata": {},
   "outputs": [],
   "source": [
    "# remove this row.\n",
    "df_playstore = df_playstore.drop(9148)"
   ]
  },
  {
   "cell_type": "code",
   "execution_count": 23,
   "metadata": {
    "scrolled": true
   },
   "outputs": [],
   "source": [
    "# make a new dummy variable.\n",
    "df_playstore['Is Free'] = (\n",
    "    df_playstore.Type == 'Free'\n",
    ").astype(int)\n",
    "\n",
    "# remove the old row.\n",
    "df_playstore = df_playstore.drop(['Type'], axis=1)"
   ]
  },
  {
   "cell_type": "markdown",
   "metadata": {},
   "source": [
    "#### Price"
   ]
  },
  {
   "cell_type": "code",
   "execution_count": 24,
   "metadata": {},
   "outputs": [
    {
     "name": "stdout",
     "output_type": "stream",
     "text": [
      "10357\n"
     ]
    }
   ],
   "source": [
    "# verify if all prices follow one of these two formats.\n",
    "print (sum(df_playstore.Price.str.match('^\\$\\d+\\.?\\d*$'))\n",
    "       + sum(df_playstore.Price == '0')\n",
    "      )"
   ]
  },
  {
   "cell_type": "code",
   "execution_count": 25,
   "metadata": {},
   "outputs": [],
   "source": [
    "# copy the desired column to a new variable\n",
    "#   and work on this new variable\n",
    "#   to avoid unnecessary errors for the main data frame.\n",
    "df_playstore_price = deepcopy(df_playstore.Price)\n",
    "\n",
    "# get the indexes of the rows that are \n",
    "#   not ready to be converted to float.\n",
    "index_price_dollar = (\n",
    "    df_playstore.Price.str.match('^\\$\\d+\\.?\\d*$')\n",
    ")\n",
    "\n",
    "# do the conversion.\n",
    "df_playstore_price[index_price_dollar] = (\n",
    "    df_playstore_price[index_price_dollar].str[1:].astype(float)\n",
    ")\n",
    "\n",
    "# apply the change to the main data frame.\n",
    "df_playstore.Price = df_playstore_price\n",
    "\n",
    "# delete temporary variables\n",
    "del df_playstore_price, index_price_dollar"
   ]
  },
  {
   "cell_type": "markdown",
   "metadata": {},
   "source": [
    "#### Content Rating"
   ]
  },
  {
   "cell_type": "code",
   "execution_count": 27,
   "metadata": {},
   "outputs": [
    {
     "data": {
      "text/plain": [
       "Everyone           8383\n",
       "Teen               1146\n",
       "Mature 17+          447\n",
       "Everyone 10+        376\n",
       "Adults only 18+       3\n",
       "Unrated               2\n",
       "Name: Content Rating, dtype: int64"
      ]
     },
     "execution_count": 27,
     "metadata": {},
     "output_type": "execute_result"
    }
   ],
   "source": [
    "# list the tags and their value counts.\n",
    "df_playstore['Content Rating'].value_counts()"
   ]
  },
  {
   "cell_type": "code",
   "execution_count": 28,
   "metadata": {
    "scrolled": true
   },
   "outputs": [],
   "source": [
    "# map the values of Content Rating to numbers\n",
    "#   and store them in another column.\n",
    "df_playstore['Minimum Age'] = df_playstore['Content Rating'].map(\n",
    "    {'Everyone' : 0,\n",
    "     'Everyone 10+' : 10,\n",
    "     'Teen' : 13,\n",
    "     'Mature 17+' : 17,\n",
    "     'Adults only 18+' : 18,\n",
    "     'Unrated' : np.nan\n",
    "    }\n",
    ")\n",
    "\n",
    "# remove the old Content Rating,\n",
    "# we already have Minimum Age as a replacement.\n",
    "df_playstore = df_playstore.drop(['Content Rating'], axis=1)"
   ]
  },
  {
   "cell_type": "markdown",
   "metadata": {},
   "source": [
    "#### Android Ver"
   ]
  },
  {
   "cell_type": "code",
   "execution_count": 29,
   "metadata": {},
   "outputs": [
    {
     "data": {
      "text/html": [
       "<div>\n",
       "<style scoped>\n",
       "    .dataframe tbody tr th:only-of-type {\n",
       "        vertical-align: middle;\n",
       "    }\n",
       "\n",
       "    .dataframe tbody tr th {\n",
       "        vertical-align: top;\n",
       "    }\n",
       "\n",
       "    .dataframe thead th {\n",
       "        text-align: right;\n",
       "    }\n",
       "</style>\n",
       "<table border=\"1\" class=\"dataframe\">\n",
       "  <thead>\n",
       "    <tr style=\"text-align: right;\">\n",
       "      <th></th>\n",
       "      <th>App</th>\n",
       "      <th>Category</th>\n",
       "      <th>Rating</th>\n",
       "      <th>Reviews</th>\n",
       "      <th>Size</th>\n",
       "      <th>Installs at least</th>\n",
       "      <th>Price</th>\n",
       "      <th>Genres</th>\n",
       "      <th>Last Updated</th>\n",
       "      <th>Current Ver</th>\n",
       "      <th>Android Ver</th>\n",
       "      <th>Variable Size</th>\n",
       "      <th>Is Free</th>\n",
       "      <th>Minimum Age</th>\n",
       "    </tr>\n",
       "  </thead>\n",
       "  <tbody>\n",
       "    <tr>\n",
       "      <th>4453</th>\n",
       "      <td>[substratum] Vacuum: P</td>\n",
       "      <td>PERSONALIZATION</td>\n",
       "      <td>4.4</td>\n",
       "      <td>230</td>\n",
       "      <td>11.0</td>\n",
       "      <td>1001</td>\n",
       "      <td>1.49</td>\n",
       "      <td>Personalization</td>\n",
       "      <td>2018-07-20</td>\n",
       "      <td>4.4</td>\n",
       "      <td>NaN</td>\n",
       "      <td>0</td>\n",
       "      <td>0</td>\n",
       "      <td>0.0</td>\n",
       "    </tr>\n",
       "    <tr>\n",
       "      <th>4490</th>\n",
       "      <td>Pi Dark [substratum]</td>\n",
       "      <td>PERSONALIZATION</td>\n",
       "      <td>4.5</td>\n",
       "      <td>189</td>\n",
       "      <td>2.1</td>\n",
       "      <td>10001</td>\n",
       "      <td>0</td>\n",
       "      <td>Personalization</td>\n",
       "      <td>2018-03-27</td>\n",
       "      <td>1.1</td>\n",
       "      <td>NaN</td>\n",
       "      <td>0</td>\n",
       "      <td>1</td>\n",
       "      <td>0.0</td>\n",
       "    </tr>\n",
       "  </tbody>\n",
       "</table>\n",
       "</div>"
      ],
      "text/plain": [
       "                         App         Category  Rating  Reviews  Size  \\\n",
       "4453  [substratum] Vacuum: P  PERSONALIZATION     4.4      230  11.0   \n",
       "4490    Pi Dark [substratum]  PERSONALIZATION     4.5      189   2.1   \n",
       "\n",
       "      Installs at least Price           Genres Last Updated Current Ver  \\\n",
       "4453               1001  1.49  Personalization   2018-07-20         4.4   \n",
       "4490              10001     0  Personalization   2018-03-27         1.1   \n",
       "\n",
       "     Android Ver  Variable Size  Is Free  Minimum Age  \n",
       "4453         NaN              0        0          0.0  \n",
       "4490         NaN              0        1          0.0  "
      ]
     },
     "execution_count": 29,
     "metadata": {},
     "output_type": "execute_result"
    }
   ],
   "source": [
    "# list the rows with NaN Android Ver.\n",
    "df_playstore[df_playstore['Android Ver'].isna()]"
   ]
  },
  {
   "cell_type": "markdown",
   "metadata": {},
   "source": [
    "So there is only a small number of apps that were halted from updating to be competible with newer android versions.\n",
    "\n",
    "For these apps, we may create a new column, e.g. Is Still Maintained."
   ]
  },
  {
   "cell_type": "code",
   "execution_count": 30,
   "metadata": {
    "scrolled": true
   },
   "outputs": [
    {
     "data": {
      "text/plain": [
       "4.1 and up            2379\n",
       "4.0.3 and up          1451\n",
       "4.0 and up            1338\n",
       "Varies with device    1220\n",
       "4.4 and up             894\n",
       "2.3 and up             643\n",
       "5.0 and up             546\n",
       "4.2 and up             387\n",
       "2.3.3 and up           279\n",
       "2.2 and up             239\n",
       "3.0 and up             237\n",
       "4.3 and up             235\n",
       "2.1 and up             133\n",
       "1.6 and up             116\n",
       "6.0 and up              58\n",
       "7.0 and up              42\n",
       "3.2 and up              36\n",
       "2.0 and up              32\n",
       "5.1 and up              22\n",
       "1.5 and up              20\n",
       "4.4W and up             11\n",
       "3.1 and up              10\n",
       "2.0.1 and up             7\n",
       "8.0 and up               6\n",
       "7.1 and up               3\n",
       "1.0 and up               2\n",
       "4.0.3 - 7.1.1            2\n",
       "5.0 - 8.0                2\n",
       "4.1 - 7.1.1              1\n",
       "5.0 - 6.0                1\n",
       "5.0 - 7.1.1              1\n",
       "2.2 - 7.1.1              1\n",
       "7.0 - 7.1.1              1\n",
       "Name: Android Ver, dtype: int64"
      ]
     },
     "execution_count": 30,
     "metadata": {},
     "output_type": "execute_result"
    }
   ],
   "source": [
    "# list the value counts\n",
    "df_playstore['Android Ver'].value_counts()"
   ]
  },
  {
   "cell_type": "markdown",
   "metadata": {},
   "source": [
    "Note that there is a value '4.4W and up' - 4.4W is the 4.4 with extended supports for Wearables."
   ]
  },
  {
   "cell_type": "code",
   "execution_count": 31,
   "metadata": {},
   "outputs": [],
   "source": [
    "# function to extract the major android version from text\n",
    "# the major version starts from the beginning and\n",
    "#   ends before the first dot (.).\n",
    "# NaN is returned if cannot extract.\n",
    "def get_android_major_version(text):\n",
    "    try:\n",
    "        ver = int(text[:text.find('.')])\n",
    "        return ver\n",
    "    except:\n",
    "        return np.nan\n",
    "\n",
    "df_playstore['Android Major Ver From'] = (\n",
    "    df_playstore['Android Ver'].apply(get_android_major_version)\n",
    ")"
   ]
  },
  {
   "cell_type": "code",
   "execution_count": 32,
   "metadata": {},
   "outputs": [],
   "source": [
    "df_playstore['Variable Android Ver'] = (\n",
    "    (df_playstore['Android Ver'].str\n",
    "         .match('^Varies with device$') == True\n",
    "    ).astype(int)\n",
    ")"
   ]
  },
  {
   "cell_type": "code",
   "execution_count": 33,
   "metadata": {},
   "outputs": [],
   "source": [
    "# The apps whose Android ver end with 'and up'\n",
    "#   or equals to 'Varies with device'\n",
    "#   are considered still maintained\n",
    "df_playstore['Is Still Maintained'] = (\n",
    "    df_playstore['Android Ver'].str.endswith('and up') | \n",
    "    df_playstore['Android Ver'].str.match(r'^Varies with device$')\n",
    ")"
   ]
  },
  {
   "cell_type": "code",
   "execution_count": 34,
   "metadata": {},
   "outputs": [],
   "source": [
    "# Remove the no-longer-wanted column.\n",
    "df_playstore = df_playstore.drop(['Android Ver'], axis=1)"
   ]
  },
  {
   "cell_type": "markdown",
   "metadata": {},
   "source": [
    "#### Current Ver"
   ]
  },
  {
   "cell_type": "code",
   "execution_count": 35,
   "metadata": {},
   "outputs": [],
   "source": [
    "# prepare a function that can recognize if\n",
    "#   a Current Ver value indicate an updated version\n",
    "#   or initial version.\n",
    "# if the input value is 'Varies with device'\n",
    "#   that means the app has been updated.\n",
    "# if the input does not follow the standard\n",
    "#   return NaN\n",
    "# if the input follows the standard then\n",
    "#   extract the version and check if it is\n",
    "#   1 or 1.0 or 1.0.0 etc.\n",
    "app_ver_std_re = re.compile(r'(?i)(?:v|version)?:? ?(\\d.*)')\n",
    "first_version_re = re.compile(r'1(\\.0)*$')\n",
    "\n",
    "def recognized_has_updated(current_ver):\n",
    "    if current_ver == 'Varies with device':\n",
    "        return 1\n",
    "    match = re.match(app_ver_std_re, current_ver)\n",
    "    if match:\n",
    "        version = match.group(1)\n",
    "        if re.match(first_version_re, version):\n",
    "            return 0\n",
    "        else:\n",
    "            return 1\n",
    "    else:\n",
    "        return np.nan\n",
    "\n",
    "# apply \n",
    "df_playstore['Has Ever Updated'] = (\n",
    "    df_playstore['Current Ver'].apply(\n",
    "        lambda x : recognized_has_updated(str(x))\n",
    "    )\n",
    ")"
   ]
  },
  {
   "cell_type": "code",
   "execution_count": 36,
   "metadata": {},
   "outputs": [],
   "source": [
    "# make a column to indicate if\n",
    "#   the app has different versions\n",
    "#   for different devices.\n",
    "df_playstore['Variable App Ver'] = (\n",
    "    df_playstore['Current Ver'].str\n",
    "    .match(r'^Varies with device$')\n",
    "    .astype(float)\n",
    ")"
   ]
  },
  {
   "cell_type": "code",
   "execution_count": 37,
   "metadata": {},
   "outputs": [],
   "source": [
    "# write a function to extract the major version \n",
    "# the regex used this time is very similar\n",
    "#   to that of the recognized_has_updated,\n",
    "#   the only difference is on the capturing group.\n",
    "extract_major_ver_re = re.compile(r'(?i)(?:v|version)?:? ?(\\d).*')\n",
    "\n",
    "def extract_app_major_version(current_ver):\n",
    "    match = re.match(extract_major_ver_re, current_ver)\n",
    "    if match:\n",
    "        major_version = match.group(1)\n",
    "        return major_version\n",
    "    return np.nan\n",
    "\n",
    "# apply\n",
    "df_playstore['Major App Ver'] = (\n",
    "    df_playstore['Current Ver'].apply(\n",
    "        lambda x : extract_app_major_version(str(x))\n",
    "    )\n",
    ")"
   ]
  },
  {
   "cell_type": "code",
   "execution_count": 38,
   "metadata": {},
   "outputs": [],
   "source": [
    "# Current Ver has fulfilled its role.\n",
    "df_playstore = df_playstore.drop(['Current Ver'], axis=1)"
   ]
  },
  {
   "cell_type": "markdown",
   "metadata": {},
   "source": [
    "#### Category and Genres"
   ]
  },
  {
   "cell_type": "markdown",
   "metadata": {},
   "source": [
    "- No NaNs here.\n",
    "- An app may be associated with multiple genres."
   ]
  },
  {
   "cell_type": "code",
   "execution_count": 39,
   "metadata": {
    "scrolled": true
   },
   "outputs": [],
   "source": [
    "# One-hot encode Category\n",
    "df_playstore = (\n",
    "    pd.get_dummies(\n",
    "        df_playstore, columns=['Category'], prefix='Cat'\n",
    "    )\n",
    ")"
   ]
  },
  {
   "cell_type": "code",
   "execution_count": 40,
   "metadata": {},
   "outputs": [],
   "source": [
    "# cast Genres to string type\n",
    "df_playstore.Genres = df_playstore.Genres.astype(str)\n",
    "\n",
    "# split the genres of each app\n",
    "df_stacked_genres = (\n",
    "    df_playstore.Genres.str\n",
    "    .split(';', expand=True).stack()\n",
    ")\n",
    "\n",
    "# apply one-hot encoding\n",
    "df_genres_dummies = (\n",
    "    pd.get_dummies(df_stacked_genres, prefix='gen')\n",
    "    .groupby(level=0).sum()\n",
    ")\n",
    "\n",
    "# join the one-hot result into the main data frame\n",
    "df_playstore = (df_playstore.merge(df_genres_dummies, \n",
    "                                   left_index=True, \n",
    "                                   right_index=True)\n",
    "               ).drop(['Genres'], axis=1)\n",
    "\n",
    "# delete temporary variables\n",
    "del df_stacked_genres, df_genres_dummies"
   ]
  },
  {
   "cell_type": "markdown",
   "metadata": {},
   "source": [
    "-------------------------------------------------------------------"
   ]
  },
  {
   "cell_type": "markdown",
   "metadata": {},
   "source": [
    "We have done with this data cleaning."
   ]
  },
  {
   "cell_type": "code",
   "execution_count": 41,
   "metadata": {},
   "outputs": [
    {
     "data": {
      "text/html": [
       "<div>\n",
       "<style scoped>\n",
       "    .dataframe tbody tr th:only-of-type {\n",
       "        vertical-align: middle;\n",
       "    }\n",
       "\n",
       "    .dataframe tbody tr th {\n",
       "        vertical-align: top;\n",
       "    }\n",
       "\n",
       "    .dataframe thead th {\n",
       "        text-align: right;\n",
       "    }\n",
       "</style>\n",
       "<table border=\"1\" class=\"dataframe\">\n",
       "  <thead>\n",
       "    <tr style=\"text-align: right;\">\n",
       "      <th></th>\n",
       "      <th>App</th>\n",
       "      <th>Rating</th>\n",
       "      <th>Reviews</th>\n",
       "      <th>Size</th>\n",
       "      <th>Installs at least</th>\n",
       "      <th>Price</th>\n",
       "      <th>Last Updated</th>\n",
       "      <th>Variable Size</th>\n",
       "      <th>Is Free</th>\n",
       "      <th>Minimum Age</th>\n",
       "      <th>...</th>\n",
       "      <th>gen_Social</th>\n",
       "      <th>gen_Sports</th>\n",
       "      <th>gen_Strategy</th>\n",
       "      <th>gen_Tools</th>\n",
       "      <th>gen_Travel &amp; Local</th>\n",
       "      <th>gen_Trivia</th>\n",
       "      <th>gen_Video Players &amp; Editors</th>\n",
       "      <th>gen_Weather</th>\n",
       "      <th>gen_Word</th>\n",
       "      <th>gen_nan</th>\n",
       "    </tr>\n",
       "  </thead>\n",
       "  <tbody>\n",
       "    <tr>\n",
       "      <th>0</th>\n",
       "      <td>Photo Editor &amp; Candy Camera &amp; Grid &amp; ScrapBook</td>\n",
       "      <td>4.1</td>\n",
       "      <td>159</td>\n",
       "      <td>19.0</td>\n",
       "      <td>10001</td>\n",
       "      <td>0</td>\n",
       "      <td>2018-01-07</td>\n",
       "      <td>0</td>\n",
       "      <td>1</td>\n",
       "      <td>0.0</td>\n",
       "      <td>...</td>\n",
       "      <td>0</td>\n",
       "      <td>0</td>\n",
       "      <td>0</td>\n",
       "      <td>0</td>\n",
       "      <td>0</td>\n",
       "      <td>0</td>\n",
       "      <td>0</td>\n",
       "      <td>0</td>\n",
       "      <td>0</td>\n",
       "      <td>0</td>\n",
       "    </tr>\n",
       "    <tr>\n",
       "      <th>1</th>\n",
       "      <td>Coloring book moana</td>\n",
       "      <td>3.9</td>\n",
       "      <td>967</td>\n",
       "      <td>14.0</td>\n",
       "      <td>500001</td>\n",
       "      <td>0</td>\n",
       "      <td>2018-01-15</td>\n",
       "      <td>0</td>\n",
       "      <td>1</td>\n",
       "      <td>0.0</td>\n",
       "      <td>...</td>\n",
       "      <td>0</td>\n",
       "      <td>0</td>\n",
       "      <td>0</td>\n",
       "      <td>0</td>\n",
       "      <td>0</td>\n",
       "      <td>0</td>\n",
       "      <td>0</td>\n",
       "      <td>0</td>\n",
       "      <td>0</td>\n",
       "      <td>0</td>\n",
       "    </tr>\n",
       "    <tr>\n",
       "      <th>2</th>\n",
       "      <td>U Launcher Lite – FREE Live Cool Themes, Hide ...</td>\n",
       "      <td>4.7</td>\n",
       "      <td>87510</td>\n",
       "      <td>8.7</td>\n",
       "      <td>5000001</td>\n",
       "      <td>0</td>\n",
       "      <td>2018-08-01</td>\n",
       "      <td>0</td>\n",
       "      <td>1</td>\n",
       "      <td>0.0</td>\n",
       "      <td>...</td>\n",
       "      <td>0</td>\n",
       "      <td>0</td>\n",
       "      <td>0</td>\n",
       "      <td>0</td>\n",
       "      <td>0</td>\n",
       "      <td>0</td>\n",
       "      <td>0</td>\n",
       "      <td>0</td>\n",
       "      <td>0</td>\n",
       "      <td>0</td>\n",
       "    </tr>\n",
       "    <tr>\n",
       "      <th>3</th>\n",
       "      <td>Sketch - Draw &amp; Paint</td>\n",
       "      <td>4.5</td>\n",
       "      <td>215644</td>\n",
       "      <td>25.0</td>\n",
       "      <td>50000001</td>\n",
       "      <td>0</td>\n",
       "      <td>2018-06-08</td>\n",
       "      <td>0</td>\n",
       "      <td>1</td>\n",
       "      <td>13.0</td>\n",
       "      <td>...</td>\n",
       "      <td>0</td>\n",
       "      <td>0</td>\n",
       "      <td>0</td>\n",
       "      <td>0</td>\n",
       "      <td>0</td>\n",
       "      <td>0</td>\n",
       "      <td>0</td>\n",
       "      <td>0</td>\n",
       "      <td>0</td>\n",
       "      <td>0</td>\n",
       "    </tr>\n",
       "    <tr>\n",
       "      <th>4</th>\n",
       "      <td>Pixel Draw - Number Art Coloring Book</td>\n",
       "      <td>4.3</td>\n",
       "      <td>967</td>\n",
       "      <td>2.8</td>\n",
       "      <td>100001</td>\n",
       "      <td>0</td>\n",
       "      <td>2018-06-20</td>\n",
       "      <td>0</td>\n",
       "      <td>1</td>\n",
       "      <td>0.0</td>\n",
       "      <td>...</td>\n",
       "      <td>0</td>\n",
       "      <td>0</td>\n",
       "      <td>0</td>\n",
       "      <td>0</td>\n",
       "      <td>0</td>\n",
       "      <td>0</td>\n",
       "      <td>0</td>\n",
       "      <td>0</td>\n",
       "      <td>0</td>\n",
       "      <td>0</td>\n",
       "    </tr>\n",
       "  </tbody>\n",
       "</table>\n",
       "<p>5 rows × 103 columns</p>\n",
       "</div>"
      ],
      "text/plain": [
       "                                                 App  Rating  Reviews  Size  \\\n",
       "0     Photo Editor & Candy Camera & Grid & ScrapBook     4.1      159  19.0   \n",
       "1                                Coloring book moana     3.9      967  14.0   \n",
       "2  U Launcher Lite – FREE Live Cool Themes, Hide ...     4.7    87510   8.7   \n",
       "3                              Sketch - Draw & Paint     4.5   215644  25.0   \n",
       "4              Pixel Draw - Number Art Coloring Book     4.3      967   2.8   \n",
       "\n",
       "   Installs at least Price Last Updated  Variable Size  Is Free  Minimum Age  \\\n",
       "0              10001     0   2018-01-07              0        1          0.0   \n",
       "1             500001     0   2018-01-15              0        1          0.0   \n",
       "2            5000001     0   2018-08-01              0        1          0.0   \n",
       "3           50000001     0   2018-06-08              0        1         13.0   \n",
       "4             100001     0   2018-06-20              0        1          0.0   \n",
       "\n",
       "   ...  gen_Social  gen_Sports  gen_Strategy  gen_Tools  gen_Travel & Local  \\\n",
       "0  ...           0           0             0          0                   0   \n",
       "1  ...           0           0             0          0                   0   \n",
       "2  ...           0           0             0          0                   0   \n",
       "3  ...           0           0             0          0                   0   \n",
       "4  ...           0           0             0          0                   0   \n",
       "\n",
       "  gen_Trivia  gen_Video Players & Editors  gen_Weather  gen_Word  gen_nan  \n",
       "0          0                            0            0         0        0  \n",
       "1          0                            0            0         0        0  \n",
       "2          0                            0            0         0        0  \n",
       "3          0                            0            0         0        0  \n",
       "4          0                            0            0         0        0  \n",
       "\n",
       "[5 rows x 103 columns]"
      ]
     },
     "execution_count": 41,
     "metadata": {},
     "output_type": "execute_result"
    }
   ],
   "source": [
    "df_playstore.head()"
   ]
  },
  {
   "cell_type": "code",
   "execution_count": null,
   "metadata": {},
   "outputs": [],
   "source": []
  }
 ],
 "metadata": {
  "kernelspec": {
   "display_name": "Python 3",
   "language": "python",
   "name": "python3"
  },
  "language_info": {
   "codemirror_mode": {
    "name": "ipython",
    "version": 3
   },
   "file_extension": ".py",
   "mimetype": "text/x-python",
   "name": "python",
   "nbconvert_exporter": "python",
   "pygments_lexer": "ipython3",
   "version": "3.7.7"
  }
 },
 "nbformat": 4,
 "nbformat_minor": 4
}
